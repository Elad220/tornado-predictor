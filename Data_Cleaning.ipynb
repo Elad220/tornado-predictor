{
 "cells": [
  {
   "cell_type": "code",
   "execution_count": 35,
   "metadata": {},
   "outputs": [],
   "source": [
    "import pandas as pd\n",
    "pd.options.mode.chained_assignment = None # default='warn'"
   ]
  },
  {
   "cell_type": "markdown",
   "metadata": {},
   "source": [
    "Data cleaning phase to prepare it for EDA and visualization."
   ]
  },
  {
   "cell_type": "code",
   "execution_count": 36,
   "metadata": {},
   "outputs": [],
   "source": [
    "def load_df():\n",
    "    return pd.read_csv('merged_data.csv')"
   ]
  },
  {
   "cell_type": "code",
   "execution_count": 37,
   "metadata": {},
   "outputs": [],
   "source": [
    "def remove_E_from_col(df):\n",
    "    df['Scale'] = df['Scale'].astype(str)\n",
    "    df['Scale'] = df['Scale'].apply(lambda x: x.replace('E', '').replace('FU', '-1').replace('F', '').replace('nan', '-1'))\n",
    "    df['Scale'] = df['Scale'].astype(float)\n",
    "    return df\n",
    "\n",
    "def format_date(df):\n",
    "    df['Date'] = df['Date'].apply(lambda x: x.replace('-', '/'))\n",
    "    day = df['Date'].str.split('/').str[0]\n",
    "    month = df['Date'].str.split('/').str[1]\n",
    "    year = df['Date'].str.split('/').str[2]\n",
    "    df['Date'] = year + '/' + month + '/' + day\n",
    "    return df\n",
    "\n",
    "def sort_reset_index(df):\n",
    "    df.sort_values(by=['Date', 'Time'], inplace=True)\n",
    "    df.reset_index(drop=True, inplace=True)\n",
    "    return df\n",
    "\n",
    "def capitalize_col_vals(df,col):\n",
    "    df[col] = df[col].astype(str)\n",
    "    df[col] = df[col].apply(lambda x: x.title())\n",
    "    return df\n",
    "\n",
    "def manipulate_date_year(df):\n",
    "    df['Date'] = pd.to_datetime(df['Date'])\n",
    "    df['Year'] = df['Date'].dt.year\n",
    "    df['Year'] = df.Year.astype(float)\n",
    "    return df"
   ]
  },
  {
   "cell_type": "code",
   "execution_count": 38,
   "metadata": {},
   "outputs": [],
   "source": [
    "def clean_data(df):\n",
    "    df = remove_E_from_col(df)\n",
    "    df = format_date(df)\n",
    "    df.drop_duplicates(subset=['Date', 'Time', 'Country'], inplace=True)\n",
    "    df = sort_reset_index(df)\n",
    "    df = df.dropna(subset = ['Date', 'Time', 'Latitude', 'Longitude', 'Country', 'Deaths', 'Length (KM)', 'Width (M)'])\n",
    "    df.reset_index(drop=True, inplace=True)\n",
    "    for col in ['District', 'City', 'Country']:\n",
    "        df = capitalize_col_vals(df, col)\n",
    "    return df"
   ]
  },
  {
   "cell_type": "code",
   "execution_count": 40,
   "metadata": {},
   "outputs": [],
   "source": [
    "df = load_df()\n",
    "df = clean_data(df)\n",
    "df = manipulate_date_year(df)\n",
    "df.to_csv('cleaned_data.csv', index=False)"
   ]
  }
 ],
 "metadata": {
  "interpreter": {
   "hash": "7812ea015bdcee6f23a998adcdd2ef97c151c0c241b7b7070987d9313e41299d"
  },
  "kernelspec": {
   "display_name": "Python 3.9.0 64-bit",
   "language": "python",
   "name": "python3"
  },
  "language_info": {
   "codemirror_mode": {
    "name": "ipython",
    "version": 3
   },
   "file_extension": ".py",
   "mimetype": "text/x-python",
   "name": "python",
   "nbconvert_exporter": "python",
   "pygments_lexer": "ipython3",
   "version": "3.9.0"
  },
  "orig_nbformat": 4
 },
 "nbformat": 4,
 "nbformat_minor": 2
}
