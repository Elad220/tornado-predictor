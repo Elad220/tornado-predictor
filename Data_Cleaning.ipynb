{
 "cells": [
  {
   "cell_type": "code",
   "execution_count": 52,
   "metadata": {},
   "outputs": [],
   "source": [
    "import numpy as np\n",
    "import pandas as pd"
   ]
  },
  {
   "cell_type": "code",
   "execution_count": 53,
   "metadata": {},
   "outputs": [],
   "source": [
    "def load_df():\n",
    "    return pd.read_csv('merged_data.csv')"
   ]
  },
  {
   "cell_type": "code",
   "execution_count": 91,
   "metadata": {},
   "outputs": [],
   "source": [
    "def remove_E_from_col(df):\n",
    "    df['Scale'] = df['Scale'].astype(str)\n",
    "    df['Scale'] = df['Scale'].apply(lambda x: x.replace('E', ''))\n",
    "    return df\n",
    "\n",
    "def handle_missing_scale(df):\n",
    "    df['Scale'] = np.where((df['Scale'] == 'FU'), 'nan', df['Scale'])\n",
    "    return df\n",
    "\n",
    "def format_date(df):\n",
    "    df['Date'] = df['Date'].apply(lambda x: x.replace('-', '/'))\n",
    "    day = df['Date'].str.split('/').str[0]\n",
    "    month = df['Date'].str.split('/').str[1]\n",
    "    year = df['Date'].str.split('/').str[2]\n",
    "    df['Date'] = year + '/' + month + '/' + day\n",
    "    return df\n",
    "\n",
    "def sort_reset_index(df):\n",
    "    df.sort_values(by=['Date', 'Time'], inplace=True)\n",
    "    df.reset_index(drop=True, inplace=True)\n",
    "    return df\n",
    "\n",
    "\n",
    "def capitalize_col_vals(df,col):\n",
    "    df[col] = df[col].astype(str)\n",
    "    df[col] = df[col].apply(lambda x: x.title())\n",
    "    return df"
   ]
  },
  {
   "cell_type": "code",
   "execution_count": 92,
   "metadata": {},
   "outputs": [],
   "source": [
    "def clean_data(df):\n",
    "    df = remove_E_from_col(df)\n",
    "    df = handle_missing_scale(df)\n",
    "    df = format_date(df)\n",
    "    df.drop_duplicates(subset=['Date', 'Time', 'Country'], inplace=True)\n",
    "    df = sort_reset_index(df)\n",
    "    # df = df.dropna(subset = ['Date', 'Time', 'Latitude', 'Longtitude'])\n",
    "    for col in ['District', 'City', 'Country']:\n",
    "        df = capitalize_col_vals(df, col)\n",
    "    return df"
   ]
  },
  {
   "cell_type": "code",
   "execution_count": 93,
   "metadata": {},
   "outputs": [],
   "source": [
    "df = load_df()\n",
    "df = clean_data(df)\n",
    "df.to_csv('cleaned_data.csv', index=False)"
   ]
  }
 ],
 "metadata": {
  "interpreter": {
   "hash": "7812ea015bdcee6f23a998adcdd2ef97c151c0c241b7b7070987d9313e41299d"
  },
  "kernelspec": {
   "display_name": "Python 3.9.0 64-bit",
   "language": "python",
   "name": "python3"
  },
  "language_info": {
   "codemirror_mode": {
    "name": "ipython",
    "version": 3
   },
   "file_extension": ".py",
   "mimetype": "text/x-python",
   "name": "python",
   "nbconvert_exporter": "python",
   "pygments_lexer": "ipython3",
   "version": "3.9.0"
  },
  "orig_nbformat": 4
 },
 "nbformat": 4,
 "nbformat_minor": 2
}
