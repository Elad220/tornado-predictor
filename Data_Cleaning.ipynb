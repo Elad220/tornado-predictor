{
 "cells": [
  {
   "cell_type": "code",
   "execution_count": 7,
   "metadata": {},
   "outputs": [],
   "source": [
    "import numpy as np\n",
    "import pandas as pd"
   ]
  },
  {
   "cell_type": "code",
   "execution_count": 8,
   "metadata": {},
   "outputs": [],
   "source": [
    "def load_df():\n",
    "    return pd.read_csv('merged_data.csv')"
   ]
  },
  {
   "cell_type": "code",
   "execution_count": 12,
   "metadata": {},
   "outputs": [],
   "source": [
    "def remove_E_from_col(df):\n",
    "    df['Scale'] = df['Scale'].astype(str)\n",
    "    df['Scale'] = df['Scale'].apply(lambda x: x.replace('E', '').replace('FU', '-1').replace('F', '').replace('nan', '-1'))\n",
    "    df['Scale'] = df['Scale'].astype(float)\n",
    "    return df\n",
    "\n",
    "def format_date(df):\n",
    "    df['Date'] = df['Date'].apply(lambda x: x.replace('-', '/'))\n",
    "    day = df['Date'].str.split('/').str[0]\n",
    "    month = df['Date'].str.split('/').str[1]\n",
    "    year = df['Date'].str.split('/').str[2]\n",
    "    df['Date'] = year + '/' + month + '/' + day\n",
    "    return df\n",
    "\n",
    "def sort_reset_index(df):\n",
    "    df.sort_values(by=['Date', 'Time'], inplace=True)\n",
    "    df.reset_index(drop=True, inplace=True)\n",
    "    return df\n",
    "\n",
    "\n",
    "def capitalize_col_vals(df,col):\n",
    "    df[col] = df[col].astype(str)\n",
    "    df[col] = df[col].apply(lambda x: x.title())\n",
    "    return df"
   ]
  },
  {
   "cell_type": "code",
   "execution_count": 15,
   "metadata": {},
   "outputs": [],
   "source": [
    "def clean_data(df):\n",
    "    df = remove_E_from_col(df)\n",
    "    df = format_date(df)\n",
    "    df.drop_duplicates(subset=['Date', 'Time', 'Country'], inplace=True)\n",
    "    df = sort_reset_index(df)\n",
    "    df = df.dropna(subset = ['Date', 'Time', 'Latitude', 'Longtitude'])\n",
    "    df.reset_index(drop=True, inplace=True)\n",
    "    for col in ['District', 'City', 'Country']:\n",
    "        df = capitalize_col_vals(df, col)\n",
    "    return df"
   ]
  },
  {
   "cell_type": "code",
   "execution_count": 16,
   "metadata": {},
   "outputs": [
    {
     "name": "stderr",
     "output_type": "stream",
     "text": [
      "/var/folders/gm/0p8xp0qn071cptf2y2k3ly7h0000gn/T/ipykernel_5211/2816522349.py:22: SettingWithCopyWarning: \n",
      "A value is trying to be set on a copy of a slice from a DataFrame.\n",
      "Try using .loc[row_indexer,col_indexer] = value instead\n",
      "\n",
      "See the caveats in the documentation: https://pandas.pydata.org/pandas-docs/stable/user_guide/indexing.html#returning-a-view-versus-a-copy\n",
      "  df[col] = df[col].astype(str)\n",
      "/var/folders/gm/0p8xp0qn071cptf2y2k3ly7h0000gn/T/ipykernel_5211/2816522349.py:23: SettingWithCopyWarning: \n",
      "A value is trying to be set on a copy of a slice from a DataFrame.\n",
      "Try using .loc[row_indexer,col_indexer] = value instead\n",
      "\n",
      "See the caveats in the documentation: https://pandas.pydata.org/pandas-docs/stable/user_guide/indexing.html#returning-a-view-versus-a-copy\n",
      "  df[col] = df[col].apply(lambda x: x.title())\n"
     ]
    }
   ],
   "source": [
    "df = load_df()\n",
    "df = clean_data(df)\n",
    "df.to_csv('cleaned_data.csv', index=False)"
   ]
  },
  {
   "cell_type": "code",
   "execution_count": null,
   "metadata": {},
   "outputs": [],
   "source": []
  }
 ],
 "metadata": {
  "interpreter": {
   "hash": "7812ea015bdcee6f23a998adcdd2ef97c151c0c241b7b7070987d9313e41299d"
  },
  "kernelspec": {
   "display_name": "Python 3.9.0 64-bit",
   "language": "python",
   "name": "python3"
  },
  "language_info": {
   "codemirror_mode": {
    "name": "ipython",
    "version": 3
   },
   "file_extension": ".py",
   "mimetype": "text/x-python",
   "name": "python",
   "nbconvert_exporter": "python",
   "pygments_lexer": "ipython3",
   "version": "3.9.0"
  },
  "orig_nbformat": 4
 },
 "nbformat": 4,
 "nbformat_minor": 2
}
