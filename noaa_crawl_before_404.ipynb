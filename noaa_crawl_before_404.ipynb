{
 "cells": [
  {
   "cell_type": "code",
   "execution_count": null,
   "metadata": {},
   "outputs": [],
   "source": [
    "import re\n",
    "import time\n",
    "import requests\n",
    "import numpy as np\n",
    "import pandas as pd\n",
    "from lxml import html\n",
    "from bs4 import BeautifulSoup\n",
    "from selenium import webdriver\n",
    "from webdriver_manager.chrome import ChromeDriverManager"
   ]
  },
  {
   "cell_type": "code",
   "execution_count": null,
   "metadata": {},
   "outputs": [],
   "source": [
    "# auxilary functions for creating the web driver and closing it\n",
    "# global variable initialization\n",
    "YEARS_TO_COUNT = ['1994', '1995', '1996', '1997', '1998', '1999', '2000', '2001', '2002', '2003', '2004', '2005', '2006', '2007', '2008', '2009', '2010', '2011', '2012', '2013', '2014', '2015', '2016', '2017']\n",
    "def create_web_driver():\n",
    "    return webdriver.Chrome(ChromeDriverManager().install())\n",
    "\n",
    "def start_web_driver(driver, url):\n",
    "    driver.maximize_window()\n",
    "    driver.get(url)\n",
    "\n",
    "def close_web_driver(driver):\n",
    "    driver.close()\n",
    "\n",
    "def log(message,filename):\n",
    "    with open(f'{filename}', 'a') as f:\n",
    "        f.write(message + '\\n')\n"
   ]
  },
  {
   "cell_type": "code",
   "execution_count": null,
   "metadata": {},
   "outputs": [],
   "source": [
    "# global variable initialization for NOAA\n",
    "NOAA_URL = 'https://www.ncdc.noaa.gov/stormevents/choosedates.jsp?statefips=-999,ALL'\n",
    "NOAA_BEGINMONTH_XPATH = \"//select[@id='beginDate_mm']//option[contains(text(),'\"\n",
    "NOAA_BEGINYEAR_XPATH = \"//select[@id='beginDate_yyyy']//option[contains(text(),'\"\n",
    "NOAA_BEGINDAY_XPATH = \"//select[@id='beginDate_dd']//option[contains(text(),'01')]\"\n",
    "NOAA_ENDMONTH_XPATH = \"//select[@id='endDate_mm']//option[contains(text(),'\"\n",
    "NOAA_ENDYEAR_XPATH = \"//select[@id='endDate_yyyy']//option[contains(text(),'\"\n",
    "NOAA_ENDDAY_XPATH = \"//select[@id='endDate_dd']//option[contains(text(),'\"\n",
    "NOAA_EVENTTYPE_XPATH = \"//select[@id='eventType']//option[contains(@value,'Tornado')]\"\n",
    "NOAA_SEARCH_XPATH = \"//input[@value='Search']\"\n",
    "NOAA_RETURN_XPATH = '//*[@id=\"anch_8\"]'\n"
   ]
  },
  {
   "cell_type": "code",
   "execution_count": null,
   "metadata": {},
   "outputs": [],
   "source": [
    "# functions for NOAA to parse the relevant date and input it in the relevant fields of the web driver received by input_date\n",
    "def noaa_input_start_date(driver, year, month):\n",
    "    driver.find_element_by_xpath(f\"{NOAA_BEGINMONTH_XPATH}{month}')]\").click()\n",
    "    driver.find_element_by_xpath(f\"{NOAA_BEGINMONTH_XPATH}{month}')]\").click()\n",
    "    driver.find_element_by_xpath(f\"{NOAA_BEGINYEAR_XPATH}{year}')]\").click()\n",
    "    driver.find_element_by_xpath(f\"{NOAA_BEGINYEAR_XPATH}{year}')]\").click()\n",
    "    driver.find_element_by_xpath(f\"{NOAA_BEGINDAY_XPATH}\").click()\n",
    "    driver.find_element_by_xpath(f\"{NOAA_BEGINDAY_XPATH}\").click()\n",
    "\n",
    "def noaa_input_end_date(driver, curr_year, end_month):\n",
    "    driver.find_element_by_xpath(f\"{NOAA_ENDMONTH_XPATH}{end_month}')]\").click()\n",
    "    driver.find_element_by_xpath(f\"{NOAA_ENDMONTH_XPATH}{end_month}')]\").click()\n",
    "    driver.find_element_by_xpath(f\"{NOAA_ENDYEAR_XPATH}{curr_year}')]\").click()\n",
    "    driver.find_element_by_xpath(f\"{NOAA_ENDYEAR_XPATH}{curr_year}')]\").click()\n",
    "    if end_month == 2:\n",
    "        end_day = 28\n",
    "    elif end_month in [4,6,7,9,11]:\n",
    "        end_day = 30\n",
    "    else:\n",
    "        end_day = 31\n",
    "    driver.find_element_by_xpath(f\"{NOAA_ENDDAY_XPATH}{end_day}')]\").click()\n",
    "    driver.find_element_by_xpath(f\"{NOAA_ENDDAY_XPATH}{end_day}')]\").click()\n",
    "    \n"
   ]
  },
  {
   "cell_type": "code",
   "execution_count": null,
   "metadata": {},
   "outputs": [],
   "source": [
    "# auxilary functions to click the relevant fields in NOAA web driver\n",
    "def noaa_start_search(driver):\n",
    "    driver.find_element_by_xpath(NOAA_SEARCH_XPATH).click()\n",
    "\n",
    "def noaa_input_event_type(driver):\n",
    "    driver.find_element_by_xpath(NOAA_EVENTTYPE_XPATH).click()\n",
    "\n",
    "def noaa_return_to_home(driver):\n",
    "    driver.find_element_by_xpath(NOAA_RETURN_XPATH).click()\n"
   ]
  },
  {
   "cell_type": "code",
   "execution_count": null,
   "metadata": {},
   "outputs": [],
   "source": [
    "# function to get text from the element in the main result page of NOAA\n",
    "def get_web_element_from_result_page(driver, xpath, index,base_xpath = \"//table[@id='results']//tr[position()>2 and position()<last()]\"):\n",
    "    return driver.find_element_by_xpath(f\"{base_xpath}[{index+1}]{xpath}\")"
   ]
  },
  {
   "cell_type": "code",
   "execution_count": null,
   "metadata": {},
   "outputs": [],
   "source": [
    "def move_to_inner_page(driver, xpath = '//td[1]//@href'):\n",
    "    driver.find_element_by_xpath(xpath).click()\n",
    "\n",
    "def return_from_inner_page(driver, xpath = \"//*[@id='anch_9']\"):\n",
    "    driver.find_element_by_xpath(xpath).click()\n",
    "    \n",
    "def get_inner_element_text(driver, xpath):\n",
    "    return driver.find_element_by_xpath(xpath).text"
   ]
  },
  {
   "cell_type": "code",
   "execution_count": null,
   "metadata": {},
   "outputs": [],
   "source": [
    "def scrape_noaa(driver, curr_year, noaa_city_list, noaa_district_list, noaa_country_list, noaa_date_list, noaa_time_list, noaa_scale_list, noaa_deaths, noaa_length_list, noaa_width_list,lat_lon_list,noaa_years_list):\n",
    "    noaa_base_xpath = \"//table[@id='results']//tr[position()>2 and position()<last()]\"\n",
    "    noaa_city_xpath = \"/td[1]//a\"\n",
    "    noaa_district_xpath = \"/td[2]\"\n",
    "    noaa_date_xpath = \"/td[4]\"\n",
    "    noaa_time_xpath = \"/td[5]\"\n",
    "    noaa_scale_xpath = \"/td[8]\"\n",
    "    noaa_deaths_xpath = \"/td[9]\"\n",
    "    return_from_inner_page_xpath = \"//*[@id='anch_9']\"\n",
    "    # inner_items_xpath = \"//table//tr[position() > 3 and position() < 7]/td[2]\"\n",
    "    length_inner_xpath = \"//table//tr/td[contains(text(), 'Length')]//following-sibling::td\"\n",
    "    width_inner_xpath = \"//table//tr/td[contains(text(), 'Width')]//following-sibling::td\"\n",
    "    country_inner_xpath = \"//table//tr/td[contains(text(), 'State')]//following-sibling::td\"\n",
    "    begin_lat_lon_xpath = \"//table//tr/td[contains(text(), 'Begin Lat/Lon')]//following-sibling::td\"\n",
    "    # noaa_click_to_inner_page_xpath = \"//td[1]//@href\"\n",
    "    ''' this will probably crash when the report number is 0, need to fix this'''\n",
    "    reports_count = len(driver.find_elements_by_xpath(f'{noaa_base_xpath}'))\n",
    "    for i in range(reports_count):\n",
    "        noaa_years_list.append(curr_year)\n",
    "        noaa_city_list.append(get_web_element_from_result_page(driver, noaa_city_xpath, i).text)\n",
    "        noaa_district_list.append(get_web_element_from_result_page(driver, noaa_district_xpath, i).text)\n",
    "        noaa_date_list.append(get_web_element_from_result_page(driver, noaa_date_xpath, i).text)\n",
    "        noaa_time_list.append(get_web_element_from_result_page(driver, noaa_time_xpath, i).text)\n",
    "        noaa_scale_list.append(get_web_element_from_result_page(driver, noaa_scale_xpath, i).text)\n",
    "        noaa_deaths.append(get_web_element_from_result_page(driver, noaa_deaths_xpath, i).text)\n",
    "        get_web_element_from_result_page(driver, noaa_city_xpath, i).click()\n",
    "        noaa_length_list.append(get_inner_element_text(driver, length_inner_xpath))\n",
    "        noaa_width_list.append(get_inner_element_text(driver, width_inner_xpath))\n",
    "        noaa_country_list.append(get_inner_element_text(driver, country_inner_xpath))\n",
    "        lat_lon_list.append(get_inner_element_text(driver, begin_lat_lon_xpath))\n",
    "        return_from_inner_page(driver, return_from_inner_page_xpath)\n",
    "    return noaa_city_list, noaa_district_list, noaa_country_list, noaa_date_list, noaa_time_list, noaa_scale_list, noaa_deaths, noaa_length_list, noaa_width_list,lat_lon_list,noaa_years_list"
   ]
  },
  {
   "cell_type": "code",
   "execution_count": null,
   "metadata": {},
   "outputs": [],
   "source": [
    "noaa_city_list, noaa_district_list, noaa_country_list, noaa_date_list, noaa_time_list, noaa_scale_list, noaa_deaths, noaa_length_list, noaa_width_list, lat_lon_list, noaa_years_list  = [], [], [], [], [], [], [] , [], [],[],[]\n",
    "driver_noaa = create_web_driver()\n",
    "start_web_driver(driver_noaa, NOAA_URL)\n",
    "# noaa_locations = driver_noaa.find_elements_by_xpath()\n",
    "# noaa_report_count = len(noaa_locations)\n",
    "for year in YEARS_TO_COUNT:\n",
    "    for month in range(1,3):\n",
    "        noaa_input_start_date(driver_noaa, year, month)\n",
    "        noaa_input_end_date(driver_noaa, year, month)\n",
    "        noaa_input_event_type(driver_noaa)\n",
    "        noaa_start_search(driver_noaa)\n",
    "        noaa_city_list, noaa_district_list, noaa_country_list, noaa_date_list, noaa_time_list, noaa_scale_list, noaa_deaths, noaa_length_list, noaa_width_list, lat_lon_list, noaa_years_list = scrape_noaa(driver_noaa, year, noaa_city_list, noaa_district_list, noaa_country_list, noaa_date_list, noaa_time_list, noaa_scale_list, noaa_deaths, noaa_length_list, noaa_width_list,lat_lon_list,noaa_years_list)\n",
    "        noaa_return_to_home(driver_noaa)\n",
    "usdf = pd.DataFrame({'City': noaa_city_list, 'District': noaa_district_list, 'Country': noaa_country_list, 'Date': noaa_date_list, 'Time': noaa_time_list, 'Scale': noaa_scale_list, 'Deaths': noaa_deaths, 'Length': noaa_length_list, 'Width': noaa_width_list, 'Lat Lon': lat_lon_list, 'Year': noaa_years_list})\n",
    "usdf"
   ]
  }
 ],
 "metadata": {
  "language_info": {
   "name": "python"
  },
  "orig_nbformat": 4
 },
 "nbformat": 4,
 "nbformat_minor": 2
}
